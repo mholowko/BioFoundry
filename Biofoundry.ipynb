{
 "cells": [
  {
   "cell_type": "markdown",
   "metadata": {},
   "source": [
    "Python 3 <br>\n",
    "BioFoundry by Maciej Holowko <br>\n",
    "This program calculates the throughput and running costs of the SynCTI BioFoundry."
   ]
  },
  {
   "cell_type": "code",
   "execution_count": 28,
   "metadata": {},
   "outputs": [
    {
     "name": "stdout",
     "output_type": "stream",
     "text": [
      "57.4 hours are needed to finish the process\n"
     ]
    },
    {
     "data": {
      "application/vnd.jupyter.widget-view+json": {
       "model_id": "bfd66313da9e49e7907a2ee92fd8f1ca"
      }
     },
     "metadata": {},
     "output_type": "display_data"
    },
    {
     "data": {
      "application/vnd.jupyter.widget-view+json": {
       "model_id": "536965979c3c4c7a910ab530e0149549"
      }
     },
     "metadata": {},
     "output_type": "display_data"
    },
    {
     "data": {
      "application/vnd.jupyter.widget-view+json": {
       "model_id": "5700918b996942afb3e5814b6b1ed803"
      }
     },
     "metadata": {},
     "output_type": "display_data"
    },
    {
     "data": {
      "application/vnd.jupyter.widget-view+json": {
       "model_id": "212c3202492f416a9a39c1212a06c4e6"
      }
     },
     "metadata": {},
     "output_type": "display_data"
    }
   ],
   "source": [
    "from bqplot import *\n",
    "from IPython.display import display\n",
    "import math\n",
    "\n",
    "\n",
    "#PCR setup (Master mix)\n",
    "def PCRsetup (NConst):\n",
    "    #Program to calculate required PCR components\n",
    "    #NFrag = input('Put in the number of combinations: ')\n",
    "    NFrag = math.ceil(NConst/5) #Number of DNA fragments to process, the divisor is proportional to the complexity of the constrtucion\n",
    "    NPrimer = NFrag * 2\n",
    "    Vmm = NFrag * 5 #volume of PCR Master Mix in uL\n",
    "    Compmm = {'buffer': 0.2*Vmm, 'dNTPs' : 0.02*Vmm, 'polymerase' : 0.01*Vmm, 'water' : 0.77*Vmm}\n",
    "    NRes = math.ceil((Vmm+250)/2800) #number of reservoir wells needed\n",
    "    #print(\"Number of fragments to PCR is \" + str(NFrag))\n",
    "    #print(\"Required volume of Master Mix is \" + str(Vmm) + \" ul\")\n",
    "    #print(\"Required volume of polymerase is \" + str(round(Compmm['polymerase'],1)) + \" ul\")\n",
    "    #print(\"Required number of wells in reservoir for PCR Master Mix is \" + str(NRes))\n",
    "    return (NFrag,NPrimer,NRes,Vmm)\n",
    "\n",
    "#Echo\n",
    "def Echo (sourcewells,reaction):\n",
    "    #all times in seconds if not defined otherwise\n",
    "    import math\n",
    "    if reaction == \"PCR\": \n",
    "        NPlatesF = math.ceil(sourcewells[0]/96)  #Number of plates with PCR mixtures\n",
    "        NPlatesP = math.ceil(sourcewells[1]/384) #Number of plates with primers\n",
    "        NPlatesR = math.ceil(sourcewells[2]/6)   #Number of reservoir plates\n",
    "        NPlates = NPlatesF + NPlatesP + NPlatesR\n",
    "        Tinitload = 120 #seconds \n",
    "        Tprocess = sourcewells[0] * 0.2 #seconds\n",
    "        Tchange = 45 #seconds\n",
    "        TTotal = (Tinitload + (Tprocess + Tchange) * NPlates)/60 #minutes\n",
    "        #print('Number of source plates with plasmids needed is ' + str(NPlates))\n",
    "        #print('Total time to prepare the plates in Echo for PCR = ' + str(round(TTotal,1)) + \" min\")\n",
    "        return (NPlatesF, TTotal)\n",
    "    elif reaction == \"Gibson\": #not finished\n",
    "        NPlatesF = math.ceil(sourcewells[0]/384)\n",
    "        NPlatesG = math.ceil(sourcewells[1]/384) #number of Gibson plates\n",
    "        NPlates = NPlatesF + NPlatesG\n",
    "        Tinitload = 120 #seconds \n",
    "        Tprocess = sourcewells[0] * 0.2 #seconds\n",
    "        Tchange = 45 #seconds\n",
    "        TTotal = (Tinitload + (Tprocess + Tchange) * NPlates)/60 #minutes\n",
    "        #print(\"Required number of plates with Gibson mixes \" + str(NPlatesG))\n",
    "        #print('Total time to prepare the plates in Echo for PCR = ' + str(round(TTotal,1)) + \" min\")\n",
    "        return(NPlatesG, TTotal)\n",
    "    else:\n",
    "        print(\"Unknown process\")\n",
    "        return \n",
    "    \n",
    "#Thermal Cycler processes running time\n",
    "def ThermalCycler (Nplates,reaction):\n",
    "    if reaction == \"PCR\":\n",
    "        Tpcr = 120 * Nplates #minutes\n",
    "        #print(\"Time required to run the PCR is \" + str(Tpcr) + \" min\")\n",
    "        return (Tpcr)\n",
    "    elif reaction == \"Gibson\":\n",
    "        Tgibson = 20 * Nplates #minutes\n",
    "        #print(\"Time required to run the PCR is \" + str(Tgibson) + \" min\")\n",
    "        return (Tgibson)\n",
    "    else:\n",
    "        print(\"Unknown process\")\n",
    "        return \n",
    "\n",
    "#Gibson Reaction Setup\n",
    "def Gibson (NFrag):\n",
    "    import math\n",
    "    Vgibson = NFrag * 5 #in uL\n",
    "    NRes = math.ceil((Vgibson+250)/2800) #numbrer of reservoir wells needed\n",
    "    #print (\"Required volume of Gibson Master Mix is \" + str(Vgibson) + \" uL.\")\n",
    "    #print(\"Required number of wells in reservoir for Gibson Master Mix is \" + str(NRes))\n",
    "    return(NRes,Vgibson)\n",
    "\n",
    "#Transformation\n",
    "def Transformation (Ntrans):\n",
    "    #All times in seconds\n",
    "    import math\n",
    "    NplateT = math.ceil(Ntrans/96) #Number of plates with transformants\n",
    "    T_thaw = 300 #Time of thawing the cells\n",
    "    T_add = 300 #Time for cells distribution/plasmid/recovery media addition\n",
    "    T_plasmid = 300 #Time for plasmid addition\n",
    "    T_incubation = 1800 #Incubation time\n",
    "    T_heatshock = 45 #Heat shock time\n",
    "    T_recovery = 3600 #Recovery time\n",
    "    T_Total = (T_thaw + T_add*3 + T_incubation + T_heatshock + T_recovery) * NplateT / 60\n",
    "    return(T_Total)\n",
    "\n",
    "#Calculation of costs\n",
    "def Costs (Vmm,Vgibson,NPlatesF,NPlatesG,NFrag):\n",
    "    Price={'PCR_MM': 0.01376, 'Gibson_MM': 1.98413, '96_well_plate': 5, '384_well_plate': 5, 'Primers': 10} #in SGD for 1 mL\n",
    "    Totalcost = Price['PCR_MM']*Vmm + Price['Gibson_MM']*Vgibson + Price['96_well_plate']*(NPlatesF + NPlatesG) + Price['Primers']*2*NFrag\n",
    "    return (Totalcost)\n",
    "    \n",
    "#Creating plots\n",
    "def Plots (Lists):    \n",
    "\n",
    "    i=0\n",
    "\n",
    "    for List in Lists:\n",
    "        Titles = ['Time = f (Number of constructs)','Number of Gibson plates = f (Number of constructs)','Number of PCR Plates = f (Number of constructs)','Cost = f (Number of constructs)']\n",
    "        y_Labels = ['Time[h]','Number of Gibson plates','Number of PCR Plates','Cost [SGD]']\n",
    "\n",
    "        x_data = NConstList\n",
    "        y_data = List\n",
    "\n",
    "        x_sc = LinearScale()\n",
    "        y_sc = LinearScale()\n",
    "        \n",
    "        panzoom = PanZoom(scales={'x': [x_sc], 'y': [y_sc]})\n",
    "\n",
    "        ax_x = Axis(label='Number of constructs', scale=x_sc, tick_format='0.0f')\n",
    "        ax_y = Axis(label_offset='-50', label=y_Labels[i], scale=y_sc, orientation='vertical', tick_format='0.0f')\n",
    "\n",
    "        line = Lines(x=x_data,\n",
    "                     y=y_data,\n",
    "                     scales={'x': x_sc, 'y': y_sc},\n",
    "                     colors=['red', 'yellow'])\n",
    "\n",
    "        fig = Figure(axes=[ax_x, ax_y], marks=[line],title = Titles[i],interaction = panzoom)\n",
    "\n",
    "        display(fig)\n",
    "\n",
    "        i += 1\n",
    "\n",
    "\n",
    "#Controls\n",
    "def Control(NConst):\n",
    "    import math\n",
    "    TTotal = 0\n",
    "    PCRPar = PCRsetup(NConst)\n",
    "    NPlatesF,Ttemp = Echo (PCRPar,\"PCR\")\n",
    "    TTotal += Ttemp\n",
    "    TTotal += ThermalCycler(NPlatesF, \"PCR\")\n",
    "    GibsonPre = Gibson(PCRPar[0])\n",
    "    GibsonP = (NPlatesF, NConst, GibsonPre[0],GibsonPre[1])\n",
    "    NPlatesG, Ttemp = Echo(GibsonP, \"Gibson\")\n",
    "    TTotal += Ttemp\n",
    "    TTotal += ThermalCycler(NPlatesG, \"Gibson\")\n",
    "    TTotal += Transformation(NPlatesG)\n",
    "    Totalcost = Costs(PCRPar[3],GibsonP[3],NPlatesF,NPlatesG,PCRPar[0])\n",
    "    return (TTotal,NPlatesG,NPlatesF,Totalcost)\n",
    "\n",
    "N_Const = 10000    # Number of constructs\n",
    "Control_variables = Control(N_Const)\n",
    "print(str(round(Control_variables[0]/60,1)) + ' hours are needed to finish the process')\n",
    "\n",
    "TimeList = []\n",
    "GibsonPlateList = []\n",
    "PCRPlateList = []\n",
    "CostList = []\n",
    "NConstList = range (10,10010,10)\n",
    "for N_Const in NConstList:\n",
    "    Control_variables = Control(N_Const)\n",
    "    #print(str(round(Control_variables[0]/60,1)) + ' hours are needed to finish the process')\n",
    "    TimeList.append(Control_variables[0]/60) \n",
    "    GibsonPlateList.append(Control_variables[1])\n",
    "    PCRPlateList.append(Control_variables[2])\n",
    "    CostList.append(Control_variables[3])\n",
    "\n",
    "Lists = [TimeList,GibsonPlateList,PCRPlateList,CostList]\n",
    "\n",
    "Plots(Lists)\n",
    "\n"
   ]
  },
  {
   "cell_type": "code",
   "execution_count": 50,
   "metadata": {},
   "outputs": [
    {
     "data": {
      "application/vnd.jupyter.widget-view+json": {
       "model_id": "bb70a9cd3ac443e09cb1f2efd75db438"
      }
     },
     "metadata": {},
     "output_type": "display_data"
    }
   ],
   "source": []
  },
  {
   "cell_type": "code",
   "execution_count": null,
   "metadata": {
    "collapsed": true
   },
   "outputs": [],
   "source": []
  },
  {
   "cell_type": "code",
   "execution_count": null,
   "metadata": {
    "collapsed": true
   },
   "outputs": [],
   "source": []
  }
 ],
 "metadata": {
  "kernelspec": {
   "display_name": "Python 3",
   "language": "python",
   "name": "python3"
  },
  "language_info": {
   "codemirror_mode": {
    "name": "ipython",
    "version": 3
   },
   "file_extension": ".py",
   "mimetype": "text/x-python",
   "name": "python",
   "nbconvert_exporter": "python",
   "pygments_lexer": "ipython3",
   "version": "3.6.1"
  }
 },
 "nbformat": 4,
 "nbformat_minor": 2
}
